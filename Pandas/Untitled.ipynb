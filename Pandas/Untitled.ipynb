{
 "cells": [
  {
   "cell_type": "code",
   "execution_count": 1,
   "id": "bcce48e7-58cf-4af6-938a-9a1309508e0e",
   "metadata": {
    "tags": []
   },
   "outputs": [],
   "source": [
    "import pandas as pd\n",
    "\n",
    "dataframe_pd = pd.read_csv('FoodBalanceSheets_E_Africa_NOFLAG.csv', encoding='latin-1')"
   ]
  },
  {
   "cell_type": "code",
   "execution_count": 2,
   "id": "8addbe12-7625-4edf-b360-bb54e5e5453f",
   "metadata": {
    "tags": []
   },
   "outputs": [
    {
     "data": {
      "text/html": [
       "<div>\n",
       "<style scoped>\n",
       "    .dataframe tbody tr th:only-of-type {\n",
       "        vertical-align: middle;\n",
       "    }\n",
       "\n",
       "    .dataframe tbody tr th {\n",
       "        vertical-align: top;\n",
       "    }\n",
       "\n",
       "    .dataframe thead th {\n",
       "        text-align: right;\n",
       "    }\n",
       "</style>\n",
       "<table border=\"1\" class=\"dataframe\">\n",
       "  <thead>\n",
       "    <tr style=\"text-align: right;\">\n",
       "      <th></th>\n",
       "      <th>Area Code</th>\n",
       "      <th>Item Code</th>\n",
       "      <th>Element Code</th>\n",
       "      <th>Y2014</th>\n",
       "      <th>Y2015</th>\n",
       "      <th>Y2016</th>\n",
       "      <th>Y2017</th>\n",
       "      <th>Y2018</th>\n",
       "    </tr>\n",
       "  </thead>\n",
       "  <tbody>\n",
       "    <tr>\n",
       "      <th>count</th>\n",
       "      <td>60943.000000</td>\n",
       "      <td>60943.000000</td>\n",
       "      <td>60943.000000</td>\n",
       "      <td>59354.000000</td>\n",
       "      <td>59395.000000</td>\n",
       "      <td>59408.000000</td>\n",
       "      <td>59437.000000</td>\n",
       "      <td>59507.000000</td>\n",
       "    </tr>\n",
       "    <tr>\n",
       "      <th>mean</th>\n",
       "      <td>134.265576</td>\n",
       "      <td>2687.176706</td>\n",
       "      <td>3814.856456</td>\n",
       "      <td>134.196282</td>\n",
       "      <td>135.235966</td>\n",
       "      <td>136.555222</td>\n",
       "      <td>140.917765</td>\n",
       "      <td>143.758381</td>\n",
       "    </tr>\n",
       "    <tr>\n",
       "      <th>std</th>\n",
       "      <td>72.605709</td>\n",
       "      <td>146.055739</td>\n",
       "      <td>2212.007033</td>\n",
       "      <td>1567.663696</td>\n",
       "      <td>1603.403984</td>\n",
       "      <td>1640.007194</td>\n",
       "      <td>1671.862359</td>\n",
       "      <td>1710.782658</td>\n",
       "    </tr>\n",
       "    <tr>\n",
       "      <th>min</th>\n",
       "      <td>4.000000</td>\n",
       "      <td>2501.000000</td>\n",
       "      <td>511.000000</td>\n",
       "      <td>-1796.000000</td>\n",
       "      <td>-3161.000000</td>\n",
       "      <td>-3225.000000</td>\n",
       "      <td>-1582.000000</td>\n",
       "      <td>-3396.000000</td>\n",
       "    </tr>\n",
       "    <tr>\n",
       "      <th>25%</th>\n",
       "      <td>74.000000</td>\n",
       "      <td>2562.000000</td>\n",
       "      <td>684.000000</td>\n",
       "      <td>0.000000</td>\n",
       "      <td>0.000000</td>\n",
       "      <td>0.000000</td>\n",
       "      <td>0.000000</td>\n",
       "      <td>0.000000</td>\n",
       "    </tr>\n",
       "    <tr>\n",
       "      <th>50%</th>\n",
       "      <td>136.000000</td>\n",
       "      <td>2630.000000</td>\n",
       "      <td>5142.000000</td>\n",
       "      <td>0.090000</td>\n",
       "      <td>0.080000</td>\n",
       "      <td>0.080000</td>\n",
       "      <td>0.100000</td>\n",
       "      <td>0.070000</td>\n",
       "    </tr>\n",
       "    <tr>\n",
       "      <th>75%</th>\n",
       "      <td>195.000000</td>\n",
       "      <td>2775.000000</td>\n",
       "      <td>5511.000000</td>\n",
       "      <td>8.340000</td>\n",
       "      <td>8.460000</td>\n",
       "      <td>8.430000</td>\n",
       "      <td>9.000000</td>\n",
       "      <td>9.000000</td>\n",
       "    </tr>\n",
       "    <tr>\n",
       "      <th>max</th>\n",
       "      <td>276.000000</td>\n",
       "      <td>2961.000000</td>\n",
       "      <td>5911.000000</td>\n",
       "      <td>176405.000000</td>\n",
       "      <td>181137.000000</td>\n",
       "      <td>185960.000000</td>\n",
       "      <td>190873.000000</td>\n",
       "      <td>195875.000000</td>\n",
       "    </tr>\n",
       "  </tbody>\n",
       "</table>\n",
       "</div>"
      ],
      "text/plain": [
       "          Area Code     Item Code  Element Code          Y2014          Y2015  \\\n",
       "count  60943.000000  60943.000000  60943.000000   59354.000000   59395.000000   \n",
       "mean     134.265576   2687.176706   3814.856456     134.196282     135.235966   \n",
       "std       72.605709    146.055739   2212.007033    1567.663696    1603.403984   \n",
       "min        4.000000   2501.000000    511.000000   -1796.000000   -3161.000000   \n",
       "25%       74.000000   2562.000000    684.000000       0.000000       0.000000   \n",
       "50%      136.000000   2630.000000   5142.000000       0.090000       0.080000   \n",
       "75%      195.000000   2775.000000   5511.000000       8.340000       8.460000   \n",
       "max      276.000000   2961.000000   5911.000000  176405.000000  181137.000000   \n",
       "\n",
       "               Y2016          Y2017          Y2018  \n",
       "count   59408.000000   59437.000000   59507.000000  \n",
       "mean      136.555222     140.917765     143.758381  \n",
       "std      1640.007194    1671.862359    1710.782658  \n",
       "min     -3225.000000   -1582.000000   -3396.000000  \n",
       "25%         0.000000       0.000000       0.000000  \n",
       "50%         0.080000       0.100000       0.070000  \n",
       "75%         8.430000       9.000000       9.000000  \n",
       "max    185960.000000  190873.000000  195875.000000  "
      ]
     },
     "execution_count": 2,
     "metadata": {},
     "output_type": "execute_result"
    }
   ],
   "source": [
    "dataframe_pd.describe()"
   ]
  },
  {
   "cell_type": "code",
   "execution_count": 7,
   "id": "c30646c3-69e4-406d-828b-05e5a541e994",
   "metadata": {
    "tags": []
   },
   "outputs": [
    {
     "name": "stdout",
     "output_type": "stream",
     "text": [
      "                         Y2015      Y2018\n",
      "Item                                     \n",
      "Alcohol, Non-Food      2180.00    2293.00\n",
      "Alcoholic Beverages   98783.72   97847.27\n",
      "Animal Products       11811.73   11578.61\n",
      "Animal fats          200675.72  269648.27\n",
      "Apples and products   10559.15    9640.51\n",
      "...                        ...        ...\n",
      "Vegetables, Other    158104.08  163987.21\n",
      "Vegetal Products     107064.17  107775.39\n",
      "Wheat and products   234710.51  242645.19\n",
      "Wine                   4251.81    4039.32\n",
      "Yams                 203151.78  221272.09\n",
      "\n",
      "[119 rows x 2 columns]\n"
     ]
    },
    {
     "name": "stderr",
     "output_type": "stream",
     "text": [
      "C:\\Users\\USER\\AppData\\Local\\Temp\\ipykernel_19112\\1950832613.py:1: FutureWarning: Indexing with multiple keys (implicitly converted to a tuple of keys) will be deprecated, use a list instead.\n",
      "  wine_grouped = dataframe_pd.groupby('Item')['Y2015', 'Y2018'].sum()\n"
     ]
    }
   ],
   "source": [
    "wine_grouped = dataframe_pd.groupby('Item')['Y2015', 'Y2018'].sum()\n",
    "print(wine_grouped)"
   ]
  },
  {
   "cell_type": "code",
   "execution_count": 8,
   "id": "b5d49001-f0b8-4a58-88c5-2f9e3a927cf2",
   "metadata": {
    "tags": []
   },
   "outputs": [
    {
     "name": "stdout",
     "output_type": "stream",
     "text": [
      "Element\n",
      "Domestic supply quantity                  2088198.10\n",
      "Export Quantity                            182338.80\n",
      "Fat supply quantity (g/capita/day)          10253.84\n",
      "Feed                                       223705.68\n",
      "Food                                      1258888.28\n",
      "Food supply (kcal/capita/day)              454681.00\n",
      "Food supply quantity (kg/capita/yr)         48690.04\n",
      "Import Quantity                            294559.09\n",
      "Losses                                     160614.00\n",
      "Other uses (non-food)                       91645.97\n",
      "Processing                                 292836.00\n",
      "Production                                2030056.89\n",
      "Protein supply quantity (g/capita/day)      11842.45\n",
      "Residuals                                   35500.00\n",
      "Seed                                        24870.14\n",
      "Stock Variation                             54316.91\n",
      "Total Population - Both sexes             1112641.00\n",
      "Tourist consumption                            91.00\n",
      "Name: Y2017, dtype: float64\n"
     ]
    }
   ],
   "source": [
    "processing_grouped = dataframe_pd.groupby('Element')['Y2017'].sum()\n",
    "print(processing_grouped)"
   ]
  },
  {
   "cell_type": "code",
   "execution_count": 12,
   "id": "fcd1044f-1d42-4871-840c-2471066c9654",
   "metadata": {
    "tags": []
   },
   "outputs": [
    {
     "name": "stdout",
     "output_type": "stream",
     "text": [
      "                                  Y2017\n",
      "Area                                   \n",
      "Sudan (former)                     0.00\n",
      "Ethiopia PDR                       0.00\n",
      "Comoros                           59.84\n",
      "Seychelles                       442.34\n",
      "Sao Tome and Principe          12662.63\n",
      "Cabo Verde                     14650.74\n",
      "Guinea-Bissau                  19102.77\n",
      "Lesotho                        21267.96\n",
      "Botswana                       22101.30\n",
      "Djibouti                       22729.91\n",
      "Gambia                         23154.18\n",
      "Gabon                          27979.64\n",
      "Liberia                        29342.20\n",
      "Namibia                        29874.89\n",
      "Central African Republic       29937.00\n",
      "Congo                          41181.68\n",
      "Togo                           49841.88\n",
      "Mauritius                      51114.83\n",
      "Eswatini                       54343.33\n",
      "Sierra Leone                   55311.33\n",
      "Chad                           71594.68\n",
      "Rwanda                         73663.69\n",
      "Zimbabwe                       75919.34\n",
      "Senegal                        95681.15\n",
      "Guinea                         98138.87\n",
      "Burkina Faso                  101855.07\n",
      "Zambia                        103223.77\n",
      "Tunisia                       124167.20\n",
      "Benin                         124771.22\n",
      "Niger                         126707.58\n",
      "Madagascar                    131197.73\n",
      "Mali                          149928.33\n",
      "Mauritania                    156665.46\n",
      "Mozambique                    161407.98\n",
      "Malawi                        181098.71\n",
      "Uganda                        213950.38\n",
      "Côte d'Ivoire                 224599.01\n",
      "Angola                        229159.57\n",
      "Cameroon                      232030.43\n",
      "Sudan                         239931.92\n",
      "Kenya                         264660.66\n",
      "United Republic of Tanzania   322616.85\n",
      "Algeria                       325644.27\n",
      "Ghana                         337599.06\n",
      "Morocco                       388495.36\n",
      "Ethiopia                      448683.76\n",
      "South Africa                  517590.54\n",
      "Egypt                         866379.92\n",
      "Nigeria                      1483268.23\n"
     ]
    },
    {
     "name": "stderr",
     "output_type": "stream",
     "text": [
      "C:\\Users\\USER\\AppData\\Local\\Temp\\ipykernel_19112\\2883033123.py:1: FutureWarning: Indexing with multiple keys (implicitly converted to a tuple of keys) will be deprecated, use a list instead.\n",
      "  seventh_lowest = dataframe_pd.groupby('Area')['Area', 'Y2017'].sum().sort_values('Y2017')\n",
      "C:\\Users\\USER\\AppData\\Local\\Temp\\ipykernel_19112\\2883033123.py:1: FutureWarning: The default value of numeric_only in DataFrameGroupBy.sum is deprecated. In a future version, numeric_only will default to False. Either specify numeric_only or select only columns which should be valid for the function.\n",
      "  seventh_lowest = dataframe_pd.groupby('Area')['Area', 'Y2017'].sum().sort_values('Y2017')\n"
     ]
    }
   ],
   "source": [
    "seventh_lowest = dataframe_pd.groupby('Area')['Area', 'Y2017'].sum().sort_values('Y2017')\n",
    "print(seventh_lowest)"
   ]
  },
  {
   "cell_type": "code",
   "execution_count": 13,
   "id": "78ae88b9-dbeb-4925-b170-e3c2b6c3f712",
   "metadata": {
    "tags": []
   },
   "outputs": [
    {
     "data": {
      "text/plain": [
       "(60943, 12)"
      ]
     },
     "execution_count": 13,
     "metadata": {},
     "output_type": "execute_result"
    }
   ],
   "source": [
    "dataframe_pd.shape"
   ]
  },
  {
   "cell_type": "code",
   "execution_count": null,
   "id": "dbd453f6-a1ed-41cd-8c95-062ecd942ce1",
   "metadata": {},
   "outputs": [],
   "source": []
  },
  {
   "cell_type": "code",
   "execution_count": 15,
   "id": "3edf29af-d012-437c-9703-0be550d6bc63",
   "metadata": {
    "tags": []
   },
   "outputs": [
    {
     "name": "stdout",
     "output_type": "stream",
     "text": [
      "                                  Y2017\n",
      "Area                                   \n",
      "Nigeria                      1483268.23\n",
      "Egypt                         866379.92\n",
      "South Africa                  517590.54\n",
      "Ethiopia                      448683.76\n",
      "Morocco                       388495.36\n",
      "Ghana                         337599.06\n",
      "Algeria                       325644.27\n",
      "United Republic of Tanzania   322616.85\n",
      "Kenya                         264660.66\n",
      "Sudan                         239931.92\n",
      "Cameroon                      232030.43\n",
      "Angola                        229159.57\n",
      "Côte d'Ivoire                 224599.01\n",
      "Uganda                        213950.38\n",
      "Malawi                        181098.71\n",
      "Mozambique                    161407.98\n",
      "Mauritania                    156665.46\n",
      "Mali                          149928.33\n",
      "Madagascar                    131197.73\n",
      "Niger                         126707.58\n",
      "Benin                         124771.22\n",
      "Tunisia                       124167.20\n",
      "Zambia                        103223.77\n",
      "Burkina Faso                  101855.07\n",
      "Guinea                         98138.87\n",
      "Senegal                        95681.15\n",
      "Zimbabwe                       75919.34\n",
      "Rwanda                         73663.69\n",
      "Chad                           71594.68\n",
      "Sierra Leone                   55311.33\n",
      "Eswatini                       54343.33\n",
      "Mauritius                      51114.83\n",
      "Togo                           49841.88\n",
      "Congo                          41181.68\n",
      "Central African Republic       29937.00\n",
      "Namibia                        29874.89\n",
      "Liberia                        29342.20\n",
      "Gabon                          27979.64\n",
      "Gambia                         23154.18\n",
      "Djibouti                       22729.91\n",
      "Botswana                       22101.30\n",
      "Lesotho                        21267.96\n",
      "Guinea-Bissau                  19102.77\n",
      "Cabo Verde                     14650.74\n",
      "Sao Tome and Principe          12662.63\n",
      "Seychelles                       442.34\n",
      "Comoros                           59.84\n",
      "Sudan (former)                     0.00\n",
      "Ethiopia PDR                       0.00\n"
     ]
    },
    {
     "name": "stderr",
     "output_type": "stream",
     "text": [
      "C:\\Users\\USER\\AppData\\Local\\Temp\\ipykernel_19112\\1626862605.py:1: FutureWarning: Indexing with multiple keys (implicitly converted to a tuple of keys) will be deprecated, use a list instead.\n",
      "  highest_Area = dataframe_pd.groupby('Area')['Area', 'Y2017'].sum().sort_values('Y2017', ascending=False)\n",
      "C:\\Users\\USER\\AppData\\Local\\Temp\\ipykernel_19112\\1626862605.py:1: FutureWarning: The default value of numeric_only in DataFrameGroupBy.sum is deprecated. In a future version, numeric_only will default to False. Either specify numeric_only or select only columns which should be valid for the function.\n",
      "  highest_Area = dataframe_pd.groupby('Area')['Area', 'Y2017'].sum().sort_values('Y2017', ascending=False)\n"
     ]
    }
   ],
   "source": [
    "highest_Area = dataframe_pd.groupby('Area')['Area', 'Y2017'].sum().sort_values('Y2017', ascending=False)\n",
    "print(highest_Area)"
   ]
  },
  {
   "cell_type": "code",
   "execution_count": 23,
   "id": "7f1681ab-4217-4df6-9772-0619a0670b80",
   "metadata": {
    "tags": []
   },
   "outputs": [
    {
     "name": "stdout",
     "output_type": "stream",
     "text": [
      "                                        Area Code  Item Code  Element Code  \\\n",
      "Element                                                                      \n",
      "Domestic supply quantity                   708993   14197445      28068795   \n",
      "Export Quantity                            599910   11840553      26026133   \n",
      "Fat supply quantity (g/capita/day)         675050   13535000       3435732   \n",
      "Feed                                       176272    3538507       7282199   \n",
      "Food                                       663295   13285035      25406622   \n",
      "Food supply (kcal/capita/day)              674057   13511060       3329296   \n",
      "Food supply quantity (kg/capita/yr)        658446   13185401       3163725   \n",
      "Import Quantity                            688174   13795966      28834929   \n",
      "Losses                                     274353    5424803      10292107   \n",
      "Other uses (non-food)                      235554    4729749       8926728   \n",
      "Processing                                 271940    5350416      10313310   \n",
      "Production                                 526751   10450053      21388191   \n",
      "Protein supply quantity (g/capita/day)     675050   13535000       3385502   \n",
      "Residuals                                  623271   12421089      24066350   \n",
      "Seed                                       103537    2035933       4211574   \n",
      "Stock Variation                            571566   11329527      21464704   \n",
      "Total Population - Both sexes                6020     112545         22995   \n",
      "Tourist consumption                         50308    1486528       2869905   \n",
      "\n",
      "                                             Y2014       Y2015       Y2016  \\\n",
      "Element                                                                      \n",
      "Domestic supply quantity                1996716.35  2021493.55  2044842.70   \n",
      "Export Quantity                          150020.64   157614.47   151920.46   \n",
      "Fat supply quantity (g/capita/day)        10225.56    10235.74    10102.77   \n",
      "Feed                                     216927.89   225050.22   228958.65   \n",
      "Food                                    1212332.49  1232361.10  1247022.17   \n",
      "Food supply (kcal/capita/day)            454257.00   453383.00   451810.00   \n",
      "Food supply quantity (kg/capita/yr)       49650.63    49345.13    48985.28   \n",
      "Import Quantity                          274144.48   267018.46   286582.78   \n",
      "Losses                                   153223.00   155439.00   157787.00   \n",
      "Other uses (non-food)                     78718.13    66254.41    69563.68   \n",
      "Processing                               282923.00   287929.00   280631.00   \n",
      "Production                              1931287.75  1947019.39  1943537.15   \n",
      "Protein supply quantity (g/capita/day)    11836.46    11833.95    11779.69   \n",
      "Residuals                                 30149.00    30045.00    37224.00   \n",
      "Seed                                      21922.92    23976.82    23389.20   \n",
      "Stock Variation                           58749.83    34910.99    33140.12   \n",
      "Total Population - Both sexes           1031585.00  1058081.00  1085107.00   \n",
      "Tourist consumption                         416.00      349.00       89.00   \n",
      "\n",
      "                                             Y2017       Y2018  \n",
      "Element                                                         \n",
      "Domestic supply quantity                2088198.10  2161192.10  \n",
      "Export Quantity                          182338.80   181594.80  \n",
      "Fat supply quantity (g/capita/day)        10253.84    10258.69  \n",
      "Feed                                     223705.68   233489.68  \n",
      "Food                                    1258888.28  1303841.28  \n",
      "Food supply (kcal/capita/day)            454681.00   455261.00  \n",
      "Food supply quantity (kg/capita/yr)       48690.04    49056.85  \n",
      "Import Quantity                          294559.09   287997.09  \n",
      "Losses                                   160614.00   163902.00  \n",
      "Other uses (non-food)                     91645.97    91300.97  \n",
      "Processing                               292836.00   308429.00  \n",
      "Production                              2030056.89  2075072.89  \n",
      "Protein supply quantity (g/capita/day)    11842.45    11833.56  \n",
      "Residuals                                 35500.00    34864.00  \n",
      "Seed                                      24870.14    25263.14  \n",
      "Stock Variation                           54316.91    20577.91  \n",
      "Total Population - Both sexes           1112641.00  1140605.00  \n",
      "Tourist consumption                          91.00       90.00  \n"
     ]
    },
    {
     "name": "stderr",
     "output_type": "stream",
     "text": [
      "C:\\Users\\USER\\AppData\\Local\\Temp\\ipykernel_19112\\3400744469.py:1: FutureWarning: The default value of numeric_only in DataFrameGroupBy.sum is deprecated. In a future version, numeric_only will default to False. Either specify numeric_only or select only columns which should be valid for the function.\n",
      "  stock_variation = dataframe_pd.groupby('Element').sum()\n"
     ]
    }
   ],
   "source": [
    "stock_variation = dataframe_pd.groupby('Element').sum()\n",
    "\n",
    "print(stock_variation)"
   ]
  },
  {
   "cell_type": "code",
   "execution_count": 24,
   "id": "fedde894-364e-431c-b44c-483893ee0ed9",
   "metadata": {
    "tags": []
   },
   "outputs": [
    {
     "ename": "TypeError",
     "evalue": "'tuple' object does not support item assignment",
     "output_type": "error",
     "traceback": [
      "\u001b[1;31m---------------------------------------------------------------------------\u001b[0m",
      "\u001b[1;31mTypeError\u001b[0m                                 Traceback (most recent call last)",
      "Cell \u001b[1;32mIn[24], line 3\u001b[0m\n\u001b[0;32m      1\u001b[0m my_tuppy \u001b[38;5;241m=\u001b[39m (\u001b[38;5;241m1\u001b[39m,\u001b[38;5;241m2\u001b[39m,\u001b[38;5;241m5\u001b[39m,\u001b[38;5;241m8\u001b[39m)\n\u001b[1;32m----> 3\u001b[0m my_tuppy[\u001b[38;5;241m2\u001b[39m] \u001b[38;5;241m=\u001b[39m \u001b[38;5;241m6\u001b[39m\n",
      "\u001b[1;31mTypeError\u001b[0m: 'tuple' object does not support item assignment"
     ]
    }
   ],
   "source": [
    "my_tuppy = (1,2,5,8)\n",
    "\n",
    "my_tuppy[2] = 6"
   ]
  },
  {
   "cell_type": "code",
   "execution_count": 31,
   "id": "c39326f4-2576-436c-b265-bf066d6d359e",
   "metadata": {
    "tags": []
   },
   "outputs": [
    {
     "name": "stdout",
     "output_type": "stream",
     "text": [
      "126674.9\n"
     ]
    }
   ],
   "source": [
    "protein_supply = dataframe_pd[dataframe_pd['Area'] == 'Madagascar']\n",
    "protein_supply = protein_supply['Y2015'].sum()\n",
    "print(protein_supply)"
   ]
  },
  {
   "cell_type": "code",
   "execution_count": 36,
   "id": "585e7f7e-c01f-4001-a67b-5dfa018e1858",
   "metadata": {
    "tags": []
   },
   "outputs": [
    {
     "data": {
      "text/plain": [
       "49"
      ]
     },
     "execution_count": 36,
     "metadata": {},
     "output_type": "execute_result"
    }
   ],
   "source": [
    "dataframe_pd['Area'].nunique()"
   ]
  },
  {
   "cell_type": "code",
   "execution_count": 46,
   "id": "eee167a5-5f9c-4f85-b795-ef31b5777885",
   "metadata": {
    "tags": []
   },
   "outputs": [
    {
     "data": {
      "text/plain": [
       "1589"
      ]
     },
     "execution_count": 46,
     "metadata": {},
     "output_type": "execute_result"
    }
   ],
   "source": [
    "dataframe_pd['Y2014'].isnull().sum()"
   ]
  },
  {
   "cell_type": "code",
   "execution_count": null,
   "id": "c85259ac-2ea5-4aae-bfe2-babe7188dca1",
   "metadata": {},
   "outputs": [],
   "source": []
  }
 ],
 "metadata": {
  "kernelspec": {
   "display_name": "Python 3 (ipykernel)",
   "language": "python",
   "name": "python3"
  },
  "language_info": {
   "codemirror_mode": {
    "name": "ipython",
    "version": 3
   },
   "file_extension": ".py",
   "mimetype": "text/x-python",
   "name": "python",
   "nbconvert_exporter": "python",
   "pygments_lexer": "ipython3",
   "version": "3.11.4"
  }
 },
 "nbformat": 4,
 "nbformat_minor": 5
}
